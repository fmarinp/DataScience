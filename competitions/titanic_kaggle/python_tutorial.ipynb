{
 "metadata": {
  "name": "python_tutorial.ipynb"
 },
 "nbformat": 3,
 "nbformat_minor": 0,
 "worksheets": [
  {
   "cells": [
    {
     "cell_type": "code",
     "collapsed": false,
     "input": [
      "import numpy"
     ],
     "language": "python",
     "metadata": {},
     "outputs": [],
     "prompt_number": 1
    },
    {
     "cell_type": "code",
     "collapsed": false,
     "input": [
      "import csv"
     ],
     "language": "python",
     "metadata": {},
     "outputs": [],
     "prompt_number": 2
    },
    {
     "cell_type": "code",
     "collapsed": false,
     "input": [
      "csv_file_object = csv.reader(open('/Users/fmarinperucci/datascience/competitions/titanic_kaggle/train.csv', 'rb'))"
     ],
     "language": "python",
     "metadata": {},
     "outputs": [],
     "prompt_number": 3
    },
    {
     "cell_type": "code",
     "collapsed": false,
     "input": [
      "header =  csv_file_object.next()\n",
      "data=[]\n",
      "for row in csv_file_object:\n",
      "    data.append(row)\n",
      "data = np.array(data)"
     ],
     "language": "python",
     "metadata": {},
     "outputs": [],
     "prompt_number": 5
    },
    {
     "cell_type": "code",
     "collapsed": false,
     "input": [
      "data"
     ],
     "language": "python",
     "metadata": {},
     "outputs": [
      {
       "metadata": {},
       "output_type": "pyout",
       "prompt_number": 6,
       "text": [
        "array([['2', '1', '1', ..., '71.2833', 'C85', 'C'],\n",
        "       ['3', '1', '3', ..., '7.925', '', 'S'],\n",
        "       ['4', '1', '1', ..., '53.1', 'C123', 'S'],\n",
        "       ..., \n",
        "       ['889', '0', '3', ..., '23.45', '', 'S'],\n",
        "       ['890', '1', '1', ..., '30', 'C148', 'C'],\n",
        "       ['891', '0', '3', ..., '7.75', '', 'Q']], \n",
        "      dtype='|S82')"
       ]
      }
     ],
     "prompt_number": 6
    },
    {
     "cell_type": "code",
     "collapsed": false,
     "input": [
      "data[0::,4]"
     ],
     "language": "python",
     "metadata": {},
     "outputs": [
      {
       "metadata": {},
       "output_type": "pyout",
       "prompt_number": 10,
       "text": [
        "array(['female', 'female', 'female', 'male', 'male', 'male', 'male',\n",
        "       'female', 'female', 'female', 'female', 'male', 'male', 'female',\n",
        "       'female', 'male', 'male', 'female', 'female', 'male', 'male',\n",
        "       'female', 'male', 'female', 'female', 'male', 'male', 'female',\n",
        "       'male', 'male', 'female', 'female', 'male', 'male', 'male', 'male',\n",
        "       'male', 'female', 'female', 'female', 'female', 'male', 'female',\n",
        "       'female', 'male', 'male', 'female', 'male', 'female', 'male',\n",
        "       'male', 'female', 'female', 'male', 'male', 'female', 'male',\n",
        "       'female', 'male', 'male', 'female', 'male', 'male', 'male', 'male',\n",
        "       'female', 'male', 'female', 'male', 'male', 'female', 'male',\n",
        "       'male', 'male', 'male', 'male', 'male', 'male', 'female', 'male',\n",
        "       'male', 'female', 'male', 'female', 'female', 'male', 'male',\n",
        "       'female', 'male', 'male', 'male', 'male', 'male', 'male', 'male',\n",
        "       'male', 'male', 'female', 'male', 'female', 'male', 'male', 'male',\n",
        "       'male', 'male', 'female', 'male', 'male', 'female', 'male',\n",
        "       'female', 'male', 'female', 'female', 'male', 'male', 'male',\n",
        "       'male', 'female', 'male', 'male', 'male', 'female', 'male', 'male',\n",
        "       'male', 'male', 'female', 'male', 'male', 'male', 'female',\n",
        "       'female', 'male', 'male', 'female', 'male', 'male', 'male',\n",
        "       'female', 'female', 'female', 'male', 'male', 'male', 'male',\n",
        "       'female', 'male', 'male', 'male', 'female', 'male', 'male', 'male',\n",
        "       'male', 'female', 'male', 'male', 'male', 'male', 'female', 'male',\n",
        "       'male', 'male', 'male', 'female', 'female', 'male', 'male', 'male',\n",
        "       'male', 'female', 'male', 'male', 'male', 'male', 'female', 'male',\n",
        "       'male', 'female', 'male', 'male', 'male', 'female', 'male',\n",
        "       'female', 'male', 'male', 'male', 'female', 'male', 'female',\n",
        "       'male', 'female', 'female', 'male', 'male', 'female', 'female',\n",
        "       'male', 'male', 'male', 'male', 'male', 'female', 'male', 'male',\n",
        "       'female', 'male', 'male', 'female', 'male', 'male', 'male',\n",
        "       'female', 'female', 'male', 'female', 'male', 'male', 'male',\n",
        "       'male', 'male', 'male', 'male', 'male', 'male', 'male', 'female',\n",
        "       'female', 'male', 'male', 'female', 'male', 'female', 'male',\n",
        "       'female', 'male', 'male', 'female', 'female', 'male', 'male',\n",
        "       'male', 'male', 'female', 'female', 'male', 'male', 'male',\n",
        "       'female', 'male', 'male', 'female', 'female', 'female', 'female',\n",
        "       'female', 'female', 'male', 'male', 'male', 'male', 'female',\n",
        "       'male', 'male', 'male', 'female', 'female', 'male', 'male',\n",
        "       'female', 'male', 'female', 'female', 'female', 'male', 'male',\n",
        "       'female', 'male', 'male', 'male', 'male', 'male', 'male', 'male',\n",
        "       'male', 'male', 'female', 'female', 'female', 'male', 'female',\n",
        "       'male', 'male', 'male', 'female', 'male', 'female', 'female',\n",
        "       'male', 'male', 'female', 'male', 'male', 'female', 'female',\n",
        "       'male', 'female', 'female', 'female', 'female', 'male', 'male',\n",
        "       'female', 'female', 'male', 'female', 'female', 'male', 'male',\n",
        "       'female', 'female', 'male', 'female', 'male', 'female', 'female',\n",
        "       'female', 'female', 'male', 'male', 'male', 'female', 'male',\n",
        "       'male', 'female', 'male', 'male', 'male', 'female', 'male', 'male',\n",
        "       'male', 'female', 'female', 'female', 'male', 'male', 'male',\n",
        "       'male', 'male', 'male', 'male', 'male', 'female', 'female',\n",
        "       'female', 'female', 'male', 'male', 'female', 'male', 'male',\n",
        "       'male', 'female', 'female', 'female', 'female', 'male', 'male',\n",
        "       'male', 'male', 'female', 'female', 'female', 'male', 'male',\n",
        "       'male', 'female', 'female', 'male', 'female', 'male', 'male',\n",
        "       'male', 'female', 'male', 'female', 'male', 'male', 'male',\n",
        "       'female', 'female', 'male', 'female', 'male', 'male', 'female',\n",
        "       'male', 'male', 'female', 'male', 'female', 'male', 'male', 'male',\n",
        "       'male', 'female', 'male', 'male', 'female', 'male', 'male',\n",
        "       'female', 'female', 'female', 'male', 'female', 'male', 'male',\n",
        "       'male', 'female', 'male', 'male', 'female', 'female', 'male',\n",
        "       'male', 'male', 'female', 'female', 'male', 'male', 'female',\n",
        "       'female', 'female', 'male', 'male', 'female', 'male', 'male',\n",
        "       'female', 'male', 'male', 'female', 'male', 'female', 'male',\n",
        "       'male', 'male', 'male', 'male', 'male', 'male', 'male', 'female',\n",
        "       'female', 'male', 'male', 'male', 'male', 'male', 'male', 'male',\n",
        "       'male', 'male', 'male', 'female', 'male', 'male', 'female',\n",
        "       'female', 'female', 'male', 'male', 'male', 'male', 'female',\n",
        "       'male', 'male', 'male', 'female', 'male', 'female', 'female',\n",
        "       'male', 'male', 'male', 'male', 'male', 'male', 'male', 'male',\n",
        "       'male', 'female', 'male', 'female', 'male', 'male', 'female',\n",
        "       'female', 'female', 'female', 'male', 'female', 'male', 'male',\n",
        "       'male', 'male', 'male', 'male', 'female', 'male', 'male', 'female',\n",
        "       'male', 'female', 'male', 'female', 'male', 'male', 'female',\n",
        "       'male', 'male', 'female', 'male', 'male', 'male', 'female', 'male',\n",
        "       'male', 'female', 'female', 'female', 'male', 'female', 'male',\n",
        "       'female', 'female', 'female', 'female', 'male', 'male', 'male',\n",
        "       'female', 'male', 'male', 'male', 'male', 'male', 'male', 'male',\n",
        "       'female', 'male', 'female', 'male', 'female', 'female', 'male',\n",
        "       'male', 'male', 'male', 'female', 'male', 'male', 'female', 'male',\n",
        "       'male', 'male', 'female', 'male', 'female', 'male', 'male',\n",
        "       'female', 'female', 'female', 'male', 'female', 'female', 'male',\n",
        "       'male', 'male', 'female', 'male', 'male', 'male', 'male', 'male',\n",
        "       'female', 'male', 'female', 'male', 'male', 'female', 'male',\n",
        "       'male', 'male', 'female', 'male', 'male', 'male', 'male', 'male',\n",
        "       'male', 'male', 'female', 'female', 'female', 'male', 'female',\n",
        "       'male', 'male', 'female', 'male', 'female', 'female', 'male',\n",
        "       'male', 'male', 'male', 'male', 'male', 'male', 'male', 'female',\n",
        "       'male', 'male', 'male', 'male', 'male', 'male', 'female', 'female',\n",
        "       'male', 'male', 'female', 'male', 'male', 'female', 'female',\n",
        "       'male', 'female', 'male', 'male', 'male', 'male', 'female', 'male',\n",
        "       'female', 'male', 'female', 'female', 'male', 'male', 'female',\n",
        "       'male', 'male', 'male', 'male', 'male', 'male', 'male', 'male',\n",
        "       'male', 'male', 'male', 'female', 'female', 'male', 'male', 'male',\n",
        "       'male', 'male', 'male', 'female', 'female', 'male', 'female',\n",
        "       'male', 'male', 'male', 'male', 'male', 'male', 'male', 'male',\n",
        "       'female', 'male', 'female', 'male', 'male', 'male', 'male', 'male',\n",
        "       'female', 'male', 'male', 'female', 'male', 'female', 'male',\n",
        "       'male', 'male', 'female', 'male', 'female', 'male', 'female',\n",
        "       'male', 'male', 'male', 'male', 'male', 'female', 'female', 'male',\n",
        "       'male', 'female', 'male', 'male', 'male', 'male', 'male', 'female',\n",
        "       'female', 'male', 'female', 'female', 'male', 'male', 'male',\n",
        "       'male', 'male', 'female', 'male', 'male', 'male', 'male', 'male',\n",
        "       'female', 'male', 'male', 'male', 'male', 'female', 'male', 'male',\n",
        "       'female', 'male', 'male', 'male', 'female', 'male', 'male', 'male',\n",
        "       'male', 'female', 'male', 'male', 'male', 'female', 'male',\n",
        "       'female', 'male', 'female', 'male', 'male', 'male', 'male',\n",
        "       'female', 'male', 'female', 'male', 'male', 'female', 'male',\n",
        "       'female', 'female', 'female', 'male', 'male', 'male', 'male',\n",
        "       'female', 'male', 'male', 'male', 'male', 'male', 'female', 'male',\n",
        "       'male', 'male', 'female', 'female', 'male', 'female', 'male',\n",
        "       'female', 'male', 'male', 'male', 'male', 'male', 'female', 'male',\n",
        "       'female', 'male', 'male', 'male', 'female', 'male', 'male',\n",
        "       'female', 'male', 'male', 'male', 'female', 'male', 'male',\n",
        "       'female', 'male', 'male', 'male', 'male', 'male', 'female',\n",
        "       'female', 'male', 'male', 'male', 'male', 'female', 'male', 'male',\n",
        "       'male', 'male', 'male', 'male', 'female', 'male', 'male', 'male',\n",
        "       'male', 'male', 'male', 'female', 'male', 'male', 'female',\n",
        "       'female', 'female', 'female', 'female', 'male', 'female', 'male',\n",
        "       'male', 'male', 'female', 'female', 'male', 'female', 'female',\n",
        "       'male', 'male', 'male', 'male', 'female', 'male', 'male', 'female',\n",
        "       'female', 'male', 'male', 'male', 'female', 'female', 'male',\n",
        "       'female', 'male', 'male', 'female', 'male', 'female', 'female',\n",
        "       'male', 'male'], \n",
        "      dtype='|S82')"
       ]
      }
     ],
     "prompt_number": 10
    },
    {
     "cell_type": "code",
     "collapsed": false,
     "input": [
      "# The size() function counts how many elements are in\n",
      "# in the array and sum() (as you would expects) sums up\n",
      "# the elements in the array.\n",
      "\n",
      "number_passengers = np.size(data[0::,1].astype(np.float))\n",
      "number_survived = np.sum(data[0::,1].astype(np.float))\n",
      "proportion_survivors = number_survived / number_passengers"
     ],
     "language": "python",
     "metadata": {},
     "outputs": [],
     "prompt_number": 11
    },
    {
     "cell_type": "code",
     "collapsed": false,
     "input": [
      "women_only_stats = data[0::,4] == \"female\" # This finds where all \n",
      "                                           # the elements in the gender\n",
      "                                           # column that equals \u201cfemale\u201d\n",
      "men_only_stats = data[0::,4] != \"female\"   # This finds where all the \n",
      "                                           # elements do not equal \n",
      "                                           # female (i.e. male)"
     ],
     "language": "python",
     "metadata": {},
     "outputs": [],
     "prompt_number": 12
    },
    {
     "cell_type": "code",
     "collapsed": false,
     "input": [
      "# Using the index from above we select the females and males separately\n",
      "women_onboard = data[women_only_stats,1].astype(np.float)     \n",
      "men_onboard = data[men_only_stats,1].astype(np.float)\n",
      "\n",
      "# Then we finds the proportions of them that survived\n",
      "proportion_women_survived = \\\n",
      "                       np.sum(women_onboard) / np.size(women_onboard)  \n",
      "proportion_men_survived = \\\n",
      "                       np.sum(men_onboard) / np.size(men_onboard) \n",
      "\n",
      "# and then print it out\n",
      "print 'Proportion of women who survived is %s' % proportion_women_survived\n",
      "print 'Proportion of men who survived is %s' % proportion_men_survived"
     ],
     "language": "python",
     "metadata": {},
     "outputs": [
      {
       "output_type": "stream",
       "stream": "stdout",
       "text": [
        "Proportion of women who survived is 0.742038216561\n",
        "Proportion of men who survived is 0.189236111111\n"
       ]
      }
     ],
     "prompt_number": 14
    },
    {
     "cell_type": "code",
     "collapsed": false,
     "input": [
      "test_file = open('/Users/fmarinperucci/datascience/competitions/titanic_kaggle/test.csv', 'rb')\n",
      "test_file_object = csv.reader(test_file)\n",
      "header = test_file_object.next()"
     ],
     "language": "python",
     "metadata": {},
     "outputs": [],
     "prompt_number": 15
    },
    {
     "cell_type": "code",
     "collapsed": false,
     "input": [
      "prediction_file = open(\"/Users/fmarinperucci/datascience/competitions/titanic_kaggle/genderbasedmodel.csv\", \"wb\")\n",
      "prediction_file_object = csv.writer(prediction_file)"
     ],
     "language": "python",
     "metadata": {},
     "outputs": [],
     "prompt_number": 16
    },
    {
     "cell_type": "code",
     "collapsed": false,
     "input": [
      "prediction_file_object.writerow([\"PassengerId\", \"Survived\"])\n",
      "for row in test_file_object:       # For each row in test.csv\n",
      "    if row[3] == 'female':         # is it a female, if yes then                                       \n",
      "        prediction_file_object.writerow([row[0],'1'])    # predict 1\n",
      "    else:                              # or else if male,       \n",
      "        prediction_file_object.writerow([row[0],'0'])    # predict 0\n",
      "test_file.close()\n",
      "prediction_file.close()\n"
     ],
     "language": "python",
     "metadata": {},
     "outputs": [],
     "prompt_number": 17
    },
    {
     "cell_type": "code",
     "collapsed": false,
     "input": [
      "# So we add a ceiling\n",
      "fare_ceiling = 40\n",
      "# then modify the data in the Fare column to = 39, if it is greater or equal to the ceiling\n",
      "data[ data[0::,9].astype(np.float) >= fare_ceiling, 9 ] = fare_ceiling - 1.0\n",
      "\n",
      "fare_bracket_size = 10\n",
      "number_of_price_brackets = fare_ceiling / fare_bracket_size\n",
      "\n",
      "# I know there were 1st, 2nd and 3rd classes on board\n",
      "number_of_classes = 3\n",
      "\n",
      "# But it's better practice to calculate this from the data directly\n",
      "# Take the length of an array of unique values in column index 2\n",
      "number_of_classes = len(np.unique(data[0::,2])) \n",
      "\n",
      "# Initialize the survival table with all zeros\n",
      "survival_table = np.zeros((2, number_of_classes, number_of_price_brackets))"
     ],
     "language": "python",
     "metadata": {},
     "outputs": [],
     "prompt_number": 18
    },
    {
     "cell_type": "code",
     "collapsed": false,
     "input": [
      "for i in xrange(number_of_classes):\n",
      "    for j in xrange(number_of_price_brackets):\n",
      "\n",
      "        women_only_stats = data[ (data[0::,4] == \"female\") \\\n",
      "                                 & (data[0::,2].astype(np.float) == i+1) \\\n",
      "                                 & (data[0:,9].astype(np.float) >= j*fare_bracket_size) \\\n",
      "                                 & (data[0:,9].astype(np.float) < (j+1)*fare_bracket_size), 1]\n",
      "\n",
      "        men_only_stats = data[ (data[0::,4] != \"female\") \\\n",
      "                                 & (data[0::,2].astype(np.float) == i+1) \\\n",
      "                                 & (data[0:,9].astype(np.float) >= j*fare_bracket_size) \\\n",
      "                                 & (data[0:,9].astype(np.float) < (j+1)*fare_bracket_size), 1]\n",
      "\n",
      "                                 #if i == 0 and j == 3:\n",
      "\n",
      "        survival_table[0,i,j] = np.mean(women_only_stats.astype(np.float))  # Female stats\n",
      "        survival_table[1,i,j] = np.mean(men_only_stats.astype(np.float))    # Male stats\n"
     ],
     "language": "python",
     "metadata": {},
     "outputs": [
      {
       "output_type": "stream",
       "stream": "stderr",
       "text": [
        "/Users/fmarinperucci/Library/Enthought/Canopy_64bit/User/lib/python2.7/site-packages/numpy/core/_methods.py:55: RuntimeWarning: Mean of empty slice.\n",
        "  warnings.warn(\"Mean of empty slice.\", RuntimeWarning)\n",
        "/Users/fmarinperucci/Library/Enthought/Canopy_64bit/User/lib/python2.7/site-packages/numpy/core/_methods.py:67: RuntimeWarning: invalid value encountered in double_scalars\n",
        "  ret = ret.dtype.type(ret / rcount)\n"
       ]
      }
     ],
     "prompt_number": 23
    },
    {
     "cell_type": "code",
     "collapsed": false,
     "input": [
      "survival_table[ survival_table != survival_table ] = 0.\n",
      "survival_table\n"
     ],
     "language": "python",
     "metadata": {},
     "outputs": [
      {
       "metadata": {},
       "output_type": "pyout",
       "prompt_number": 25,
       "text": [
        "array([[[ 0.        ,  0.        ,  0.83333333,  0.97727273],\n",
        "        [ 0.        ,  0.91428571,  0.9       ,  1.        ],\n",
        "        [ 0.59375   ,  0.58139535,  0.33333333,  0.125     ]],\n",
        "\n",
        "       [[ 0.        ,  0.        ,  0.4       ,  0.38372093],\n",
        "        [ 0.        ,  0.15873016,  0.16      ,  0.21428571],\n",
        "        [ 0.11196911,  0.23684211,  0.125     ,  0.24      ]]])"
       ]
      }
     ],
     "prompt_number": 25
    },
    {
     "cell_type": "code",
     "collapsed": false,
     "input": [
      "survival_table[ survival_table < 0.5 ] = 0\n",
      "survival_table[ survival_table >= 0.5 ] = 1 "
     ],
     "language": "python",
     "metadata": {},
     "outputs": [],
     "prompt_number": 26
    },
    {
     "cell_type": "code",
     "collapsed": false,
     "input": [
      "survival_table"
     ],
     "language": "python",
     "metadata": {},
     "outputs": [
      {
       "metadata": {},
       "output_type": "pyout",
       "prompt_number": 27,
       "text": [
        "array([[[ 0.,  0.,  1.,  1.],\n",
        "        [ 0.,  1.,  1.,  1.],\n",
        "        [ 1.,  1.,  0.,  0.]],\n",
        "\n",
        "       [[ 0.,  0.,  0.,  0.],\n",
        "        [ 0.,  0.,  0.,  0.],\n",
        "        [ 0.,  0.,  0.,  0.]]])"
       ]
      }
     ],
     "prompt_number": 27
    },
    {
     "cell_type": "code",
     "collapsed": false,
     "input": [
      "#second sub\n",
      "test_file = open('/Users/fmarinperucci/datascience/competitions/titanic_kaggle/test.csv', 'rb')\n",
      "test_file_object = csv.reader(test_file)\n",
      "header = test_file_object.next()\n",
      "predictions_file = open(\"/Users/fmarinperucci/datascience/competitions/titanic_kaggle/genderclassmodel.csv\", \"wb\")\n",
      "predictions_file_object = csv.writer(predictions_file)\n",
      "predictions_file_object.writerow([\"PassengerId\", \"Survived\"])\n"
     ],
     "language": "python",
     "metadata": {},
     "outputs": [],
     "prompt_number": 30
    },
    {
     "cell_type": "code",
     "collapsed": false,
     "input": [
      "# First thing to do is bin up the price file\n",
      "for row in test_file_object:\n",
      "    for j in xrange(number_of_price_brackets):\n",
      "        # If there is no fare then place the price of the ticket according to class\n",
      "        try:\n",
      "            row[8] = float(row[8])    # No fare recorded will come up as a string so\n",
      "                                      # try to make it a float\n",
      "        except:                       # If fails then just bin the fare according to the class\n",
      "            bin_fare = 3 - float(row[1])\n",
      "            break                     # Break from the loop and move to the next row\n",
      "        if row[8] > fare_ceiling:     # Otherwise now test to see if it is higher\n",
      "                                      # than the fare ceiling we set earlier\n",
      "            bin_fare = number_of_price_brackets - 1\n",
      "            break                     # And then break to the next row\n",
      "\n",
      "        if row[8] >= j*fare_bracket_size\\\n",
      "            and row[8] < (j+1)*fare_bracket_size:     # If passed these tests then loop through\n",
      "                                                      # each bin until you find the right one\n",
      "                                                      # append it to the bin_fare\n",
      "                                                      # and move to the next loop\n",
      "            bin_fare = j\n",
      "            break\n",
      "        # Now I have the binned fare, passenger class, and whether female or male, we can\n",
      "        # just cross ref their details with our survival table\n",
      "    if row[3] == 'female':\n",
      "        predictions_file_object.writerow([row[0], \"%d\" % int(survival_table[ 0, float(row[1]) - 1, bin_fare ])])\n",
      "    else:\n",
      "        predictions_file_object.writerow([row[0], \"%d\" % int(survival_table[ 1, float(row[1]) - 1, bin_fare])])\n",
      "\n",
      "# Close out the files\n",
      "test_file.close()\n",
      "predictions_file.close()"
     ],
     "language": "python",
     "metadata": {},
     "outputs": [],
     "prompt_number": 31
    },
    {
     "cell_type": "code",
     "collapsed": false,
     "input": [],
     "language": "python",
     "metadata": {},
     "outputs": []
    }
   ],
   "metadata": {}
  }
 ]
}